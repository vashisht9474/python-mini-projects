{
  "nbformat": 4,
  "nbformat_minor": 0,
  "metadata": {
    "colab": {
      "name": "Untitled19.ipynb",
      "provenance": []
    },
    "kernelspec": {
      "name": "python3",
      "display_name": "Python 3"
    },
    "language_info": {
      "name": "python"
    }
  },
  "cells": [
    {
      "cell_type": "code",
      "metadata": {
        "colab": {
          "base_uri": "https://localhost:8080/"
        },
        "id": "iaIz347IijDa",
        "outputId": "99101b7c-92a0-49fe-8e8c-5727b27ebefe"
      },
      "source": [
        "# Importing randome module\n",
        "import random\n",
        "\n",
        "# Initiating an while loop to keep the program executing\n",
        "while True:\n",
        "    print(\"Rolling Dice...\")\n",
        "\n",
        "    # Using random.randint(1,6) to generate a random value between 1 & 6\n",
        "    print(f\"The value is \", random.randint(1,6))\n",
        "\n",
        "    # Asking user to roll the dice again or quit \n",
        "    repeat = input(\"Roll Dice again? 'y' for yes & 'n' for no: \")\n",
        "\n",
        "    # If the user answers negative the loop will break and program execution stops otherwise the program will continue executing \n",
        "    if repeat == 'n':\n",
        "        break"
      ],
      "execution_count": 3,
      "outputs": [
        {
          "output_type": "stream",
          "text": [
            "Rolling Dice...\n",
            "The value is  6\n",
            "Roll Dice again? 'y' for yes & 'n' for no: y\n",
            "Rolling Dice...\n",
            "The value is  5\n",
            "Roll Dice again? 'y' for yes & 'n' for no: y\n",
            "Rolling Dice...\n",
            "The value is  2\n",
            "Roll Dice again? 'y' for yes & 'n' for no: n\n"
          ],
          "name": "stdout"
        }
      ]
    }
  ]
}