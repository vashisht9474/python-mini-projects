{
  "nbformat": 4,
  "nbformat_minor": 0,
  "metadata": {
    "colab": {
      "name": "Untitled23.ipynb",
      "provenance": [],
      "authorship_tag": "ABX9TyPXVl650CLa6gmBOfSrrweX",
      "include_colab_link": true
    },
    "kernelspec": {
      "name": "python3",
      "display_name": "Python 3"
    },
    "language_info": {
      "name": "python"
    }
  },
  "cells": [
    {
      "cell_type": "markdown",
      "metadata": {
        "id": "view-in-github",
        "colab_type": "text"
      },
      "source": [
        "<a href=\"https://colab.research.google.com/github/vashisht9474/python-mini-projects/blob/main/weather%20app%20via%20python.ipynb\" target=\"_parent\"><img src=\"https://colab.research.google.com/assets/colab-badge.svg\" alt=\"Open In Colab\"/></a>"
      ]
    },
    {
      "cell_type": "code",
      "metadata": {
        "colab": {
          "base_uri": "https://localhost:8080/"
        },
        "id": "aEFFuJOp_dFU",
        "outputId": "97c9a02f-a69a-4fa6-d2db-275a274bea55"
      },
      "source": [
        "from bs4 import BeautifulSoup\n",
        "import requests\n",
        "headers = {'User-Agent': 'Mozilla/5.0 (Windows NT 10.0; Win64; x64) AppleWebKit/537.36 (KHTML, like Gecko) Chrome/58.0.3029.110 Safari/537.3'}\n",
        "\n",
        "def weather(city):\n",
        "    city=city.replace(\" \",\"+\")\n",
        "    res = requests.get(f'https://www.google.com/search?q={city}&oq={city}&aqs=chrome.0.35i39l2j0l4j46j69i60.6128j1j7&sourceid=chrome&ie=UTF-8',headers=headers)\n",
        "    print(\"Searching in google......\\n\")\n",
        "    soup = BeautifulSoup(res.text,'html.parser')   \n",
        "    location = soup.select('#wob_loc')[0].getText().strip()  \n",
        "    time = soup.select('#wob_dts')[0].getText().strip()       \n",
        "    info = soup.select('#wob_dc')[0].getText().strip() \n",
        "    weather = soup.select('#wob_tm')[0].getText().strip()\n",
        "    print(location)\n",
        "    print(time)\n",
        "    print(info)\n",
        "    print(weather+\"°C\") \n",
        "\n",
        "print(\"enter the city name\")\n",
        "city=input()\n",
        "city=city+\" weather\"\n",
        "weather(city)"
      ],
      "execution_count": 2,
      "outputs": [
        {
          "output_type": "stream",
          "text": [
            "enter the city name\n",
            "shimla\n",
            "Searching in google......\n",
            "\n",
            "Shimla, Himachal Pradesh, India\n",
            "Monday 2:00 PM\n",
            "Cloudy\n",
            "63°C\n"
          ],
          "name": "stdout"
        }
      ]
    }
  ]
}